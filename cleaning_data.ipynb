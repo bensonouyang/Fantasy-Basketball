{
 "cells": [
  {
   "cell_type": "code",
   "execution_count": 3,
   "metadata": {},
   "outputs": [],
   "source": [
    "import pandas as pd\n",
    "\n",
    "def main():\n",
    "    data = pd.read_csv('stats.csv')\n",
    "    del data['Unnamed: 0']\n",
    "\n",
    "    # Players that have gotten traded are placed in a different row with stats from their time on that specific team\n",
    "\n",
    "    TradedPlayers = []\n",
    "\n",
    "    # Placing players that were traded in a list called TradedPlayers\n",
    "    for i in range(len(data) - 1):\n",
    "        temp = data.loc[i+1].Player\n",
    "        if (temp == data.loc[i].Player) & (temp not in TradedPlayers):\n",
    "            TradedPlayers.append(temp)\n",
    "    \n",
    "    # Dataframe containing players that weren't traded\n",
    "    Nontraded_DF = data[data[\"Player\"].isin(TradedPlayers) == False]\n",
    "    \n",
    "    # Dataframe containing players that were traded and stats for each team they were on\n",
    "    Traded_DF = data[data[\"Player\"].isin(TradedPlayers)]\n",
    "    \n",
    "    # Dataframe containing total stats of players that were traded\n",
    "    TradedTot_DF = Traded_DF[Traded_DF['Tm'] == 'TOT']\n",
    "    \n",
    "    # Combined Dataframe of traded and non traded players\n",
    "    Combined_DF = Nontraded_DF.append(TradedTot_DF).reset_index()\n",
    "\n",
    "    del Combined_DF['index']\n",
    "    \n",
    "    # Missing data can be replaced with 0's, usually bench players \n",
    "    Combined_DF = Combined_DF.fillna(0)\n",
    "\n",
    "    Combined_DF.to_csv(\"cleandata.csv\")\n",
    "\n",
    "\n",
    "    \n",
    "if __name__=='__main__':\n",
    "    main()"
   ]
  }
 ],
 "metadata": {
  "kernelspec": {
   "display_name": "Python 3",
   "language": "python",
   "name": "python3"
  },
  "language_info": {
   "codemirror_mode": {
    "name": "ipython",
    "version": 3
   },
   "file_extension": ".py",
   "mimetype": "text/x-python",
   "name": "python",
   "nbconvert_exporter": "python",
   "pygments_lexer": "ipython3",
   "version": "3.7.7"
  }
 },
 "nbformat": 4,
 "nbformat_minor": 4
}
