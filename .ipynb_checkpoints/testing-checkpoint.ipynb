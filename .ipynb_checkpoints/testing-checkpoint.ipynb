{
 "cells": [
  {
   "cell_type": "markdown",
   "metadata": {},
   "source": [
    "# Gathering Data"
   ]
  },
  {
   "cell_type": "code",
   "execution_count": 20,
   "metadata": {
    "scrolled": true
   },
   "outputs": [
    {
     "name": "stdout",
     "output_type": "stream",
     "text": [
      "['Player', 'Pos', 'Age', 'Tm', 'G', 'GS', 'MP', 'FG', 'FGA', 'FG%', '3P', '3PA', '3P%', '2P', '2PA', '2P%', 'eFG%', 'FT', 'FTA', 'FT%', 'ORB', 'DRB', 'TRB', 'AST', 'STL', 'BLK', 'TOV', 'PF', 'PTS']\n"
     ]
    }
   ],
   "source": [
    "from urllib.request import urlopen\n",
    "from bs4 import BeautifulSoup\n",
    "import pandas as pd\n",
    "\n",
    "# NBA season we will be analyzing\n",
    "year = 2020\n",
    "\n",
    "# URL page we will scraping\n",
    "url = \"https://www.basketball-reference.com/leagues/NBA_{}_per_game.html\".format(year)\n",
    "\n",
    "# this is the HTML from the given URL\n",
    "html = urlopen(url)\n",
    "soup = BeautifulSoup(html, features=\"lxml\")\n",
    "\n",
    "# use findALL() to get the column headers\n",
    "soup.findAll('tr', limit=2)\n",
    "\n",
    "# use getText()to extract the text we need into a list\n",
    "headers = [th.getText() for th in soup.findAll('tr', limit=2)[0].findAll('th')]\n",
    "\n",
    "# exclude the first column as we will not need the\n",
    "# ranking order from Basketball Reference for the analysis\n",
    "headers = headers[1:]\n",
    "#print(headers)\n",
    "\n",
    "##Header Meaning\n",
    "#Player = Name of Player\n",
    "#Pos = Position\n",
    "#Age = Age\n",
    "#Tm = Team\n",
    "#G = Games Played\n",
    "#GS = Games Started\n",
    "#MP = Minutes Played Per Game\n",
    "#FG = Field Goals Per Game\n",
    "#FGA = Field Goal Attempts Per Game\n",
    "#FG% = Field Goal Percentage\n",
    "#3P = 3-Point Field Goals Per Game\n",
    "#3PA = 3-Point Field Goal Attempts Per Game\n",
    "#3P% = 3-Point Field Goal Percentage\n",
    "#2P = 2-Point Field Goals Per Game\n",
    "#2PA = 2-Point Field Goal Attempts Per Game\n",
    "#2P% = 2-Point Field Goal Percentage\n",
    "#eFG% = Effective Field Goal Percentage\n",
    "#FT = Free Throws Per Game\n",
    "#FTA = Free Throw Attempts Per Game\n",
    "#FT% = Free Throw Percentage\n",
    "#ORB = Offensive Rebounds Per Game\n",
    "#DRB = Defensive Rebounds Per Game\n",
    "#TRB = Total Rebounds Per Game\n",
    "#AST = Assists Per Game\n",
    "#BLK = Blocks Per Game\n",
    "#TOV = Turnover Per Game\n",
    "#PF = Personal Fouls Per Game\n",
    "#PTS = Points Per Game\n",
    "\n",
    "\n",
    "# avoid the first header row\n",
    "rows = soup.findAll('tr')[1:]\n",
    "player_stats = [[td.getText() for td in rows[i].findAll('td')]\n",
    "            for i in range(len(rows))]\n",
    "\n",
    "stats = pd.DataFrame(player_stats, columns = headers)\n",
    "\n",
    "stats.to_csv(\"stats.csv\")\n",
    "\n"
   ]
  },
  {
   "cell_type": "markdown",
   "metadata": {},
   "source": [
    "# Cleaning Data"
   ]
  },
  {
   "cell_type": "code",
   "execution_count": 3,
   "metadata": {},
   "outputs": [],
   "source": [
    "import pandas as pd\n",
    "from sklearn.linear_model import LinearRegression\n",
    "import seaborn as sns\n",
    "\n",
    "data = pd.read_csv('stats.csv')\n",
    "\n",
    "del data['Unnamed: 0']\n",
    "\n",
    "# Players that have gotten traded are placed in a different row with stats from their time on that specific team\n",
    "\n",
    "TradedPlayers = []\n",
    "\n",
    "# Placing players that were traded in a list called TradedPlayers\n",
    "for i in range(len(data) - 1):\n",
    "    temp = data.loc[i+1].Player\n",
    "    if (temp == data.loc[i].Player) & (temp not in TradedPlayers):\n",
    "        TradedPlayers.append(temp)\n",
    "\n",
    "Nontraded_DF = data[data[\"Player\"].isin(TradedPlayers) == False]\n",
    "\n",
    "Traded_DF = data[data[\"Player\"].isin(TradedPlayers)]\n",
    "\n",
    "TradedTot_DF = Traded_DF[Traded_DF['Tm'] == 'TOT']\n",
    "\n",
    "Combined_DF = Nontraded_DF.append(TradedTot_DF).reset_index()\n",
    "\n",
    "del Combined_DF['index']\n",
    "\n",
    "Combined_DF = Combined_DF.fillna(0)\n",
    "\n",
    "# Column for Average Fantasy Points calculated based on columns based on different weights placed on different statline\n",
    "# The weights I have put on each category is based on my own personal standing of each category\n",
    "\n",
    "# Each Fantasy League can have their own weights on each category, I tried to make the weights as balanced as possible\n",
    "# For example, power forwards and centers are able to get more blocks than the other positions while guards get more than steals\n",
    "# than other positions\n",
    "\n",
    "Combined_DF['AFP'] = 3*Combined_DF['3P'] + 2*Combined_DF['2P'] - Combined_DF['3PA'] - 0.5*Combined_DF['2PA'] \n",
    "+ Combined_DF['FT'] - 0.25*Combined_DF['FTA'] +  2*Combined_DF['ORB'] + Combined_DF['DRB'] + 2*Combined_DF['AST'] \n",
    "+ 4*Combined_DF['STL'] + 4*Combined_DF['BLK'] - 2.5*Combined_DF['TOV'] - Combined_DF['PF']\n"
   ]
  },
  {
   "cell_type": "markdown",
   "metadata": {},
   "source": [
    "# Exploring Data "
   ]
  },
  {
   "cell_type": "code",
   "execution_count": 89,
   "metadata": {},
   "outputs": [
    {
     "name": "stdout",
     "output_type": "stream",
     "text": [
      "                Player   AFP\n",
      "472  Russell Westbrook  9.15\n",
      "218       Kyrie Irving  8.85\n",
      "226       LeBron James  8.55\n",
      "270     Damian Lillard  7.80\n",
      "423        Ben Simmons  7.30\n",
      "117        Luka Dončić  7.05\n",
      "417      Collin Sexton  7.00\n",
      "403       Derrick Rose  6.75\n",
      "140       De'Aaron Fox  6.70\n",
      "490         Trae Young  6.40\n",
      "                      Player   AFP\n",
      "32              Bradley Beal  8.20\n",
      "49              Devin Booker  7.80\n",
      "260              Zach LaVine  7.05\n",
      "298              CJ McCollum  7.05\n",
      "176             James Harden  6.85\n",
      "318         Donovan Mitchell  6.70\n",
      "67              Jaylen Brown  6.60\n",
      "199             Jrue Holiday  5.90\n",
      "414          Dennis Schröder  5.80\n",
      "155  Shai Gilgeous-Alexander  5.75\n",
      "               Player   AFP\n",
      "112     DeMar DeRozan  8.55\n",
      "466       T.J. Warren  8.25\n",
      "267     Kawhi Leonard  8.20\n",
      "310   Khris Middleton  7.10\n",
      "553    Andrew Wiggins  6.15\n",
      "188    Gordon Hayward  6.10\n",
      "139     Evan Fournier  5.45\n",
      "44   Bojan Bogdanović  5.10\n",
      "360   Kelly Oubre Jr.  4.95\n",
      "181        Joe Harris  4.85\n",
      "                    Player    AFP\n",
      "12   Giannis Antetokounmpo  11.00\n",
      "482        Zion Williamson  10.10\n",
      "97            John Collins   9.40\n",
      "108          Anthony Davis   8.40\n",
      "407       Domantas Sabonis   7.70\n",
      "436           Jayson Tatum   6.85\n",
      "216         Brandon Ingram   6.85\n",
      "421          Pascal Siakam   6.75\n",
      "1              Bam Adebayo   6.60\n",
      "182          Tobias Harris   6.55\n",
      "                 Player   AFP\n",
      "20        Deandre Ayton  8.90\n",
      "447  Karl-Anthony Towns  8.65\n",
      "179    Montrezl Harrell  8.40\n",
      "475    Hassan Whiteside  7.80\n",
      "80         Clint Capela  7.65\n",
      "517      Andre Drummond  7.55\n",
      "236        Nikola Jokić  7.40\n",
      "156         Rudy Gobert  7.30\n",
      "2     LaMarcus Aldridge  7.00\n",
      "455   Jonas Valančiūnas  6.95\n"
     ]
    }
   ],
   "source": [
    "# Separating the data into different positions since when choosing players, have to choose players for each position\n",
    "\n",
    "PG  = Combined_DF[(Combined_DF['Pos'] == 'PG') & (Combined_DF['AFP'] > np.mean(Combined_DF['AFP']))]\n",
    "SG = Combined_DF[(Combined_DF['Pos'] == 'SG') & (Combined_DF['AFP'] > np.mean(Combined_DF['AFP']))]\n",
    "SF = Combined_DF[(Combined_DF['Pos'] == 'SF') & (Combined_DF['AFP'] > np.mean(Combined_DF['AFP']))]\n",
    "PF = Combined_DF[(Combined_DF['Pos'] == 'PF') & (Combined_DF['AFP'] > np.mean(Combined_DF['AFP']))]\n",
    "C = Combined_DF[(Combined_DF['Pos'] == 'C') & (Combined_DF['AFP'] > np.mean(Combined_DF['AFP']))]\n",
    "\n",
    "print(PG[['Player', 'AFP']].sort_values(by = 'AFP', ascending = False).head(10))\n",
    "print(SG[['Player', 'AFP']].sort_values(by = 'AFP', ascending = False).head(10))\n",
    "print(SF[['Player', 'AFP']].sort_values(by = 'AFP', ascending = False).head(10))\n",
    "print(PF[['Player', 'AFP']].sort_values(by = 'AFP', ascending = False).head(10))\n",
    "print(C[['Player', 'AFP']].sort_values(by = 'AFP', ascending = False).head(10))"
   ]
  },
  {
   "cell_type": "markdown",
   "metadata": {},
   "source": [
    "# Data Visualization"
   ]
  },
  {
   "cell_type": "code",
   "execution_count": 87,
   "metadata": {},
   "outputs": [
    {
     "name": "stdout",
     "output_type": "stream",
     "text": [
      "             0\n",
      "2P    0.923281\n",
      "FG    0.886771\n",
      "2PA   0.862021\n",
      "PTS   0.819665\n",
      "FGA   0.729993\n",
      "FTA   0.651260\n",
      "MP    0.623017\n",
      "FT    0.609889\n",
      "TOV   0.599730\n",
      "DRB   0.598487\n",
      "TRB   0.586130\n",
      "PF    0.414726\n",
      "AST   0.382551\n",
      "ORB   0.374134\n",
      "STL   0.326623\n",
      "BLK   0.265336\n",
      "FG%   0.256893\n",
      "eFG%  0.228433\n",
      "3P    0.225054\n",
      "3PA   0.195265\n",
      "2P%   0.155703\n",
      "FT%   0.123295\n",
      "3P%   0.092013\n"
     ]
    },
    {
     "data": {
      "image/png": "[encoded data removed]",
      "text/plain": [
       "<Figure size 432x288 with 1 Axes>"
      ]
     },
     "metadata": {},
     "output_type": "display_data"
    }
   ],
   "source": [
    "# https://aegis4048.github.io/mutiple_linear_regression_and_visualization_in_python\n",
    "\n",
    "import matplotlib.pyplot as plt\n",
    "import seaborn as sns\n",
    "import numpy as np\n",
    "\n",
    "x_lab = ['MP', 'FG', 'FGA', 'FG%', '3P', '3PA', '3P%', '2P', '2PA', '2P%', 'eFG%', 'FT', 'FTA', \n",
    "                 'FT%', 'ORB', 'DRB', 'TRB', 'AST', 'STL', 'BLK', 'TOV', 'PF', 'PTS']\n",
    "y = Combined_DF['AFP']\n",
    "\n",
    "R_2 = []\n",
    "\n",
    "for x in x_lab:\n",
    "    X = np.array(Combined_DF[x]).reshape(-1,1)\n",
    "    testreg = LinearRegression().fit(X,y)\n",
    "    R_2.append(testreg.score(X,y))\n",
    "\n",
    "R_2 = pd.DataFrame(R_2)\n",
    "\n",
    "R_2.index = x_lab\n",
    "\n",
    "sns.set_style('darkgrid')\n",
    "plt.xticks(rotation = 60)\n",
    "plt.ylabel('R^2')\n",
    "plt.title(\"Correlation Between Stats and Average Fantasy Points\")\n",
    "plt.plot(R_2.sort_values(by = 0, ascending = False))\n",
    "\n",
    "print(R_2.sort_values(by = 0, ascending = False))"
   ]
  }
 ],
 "metadata": {
  "kernelspec": {
   "display_name": "Python 3",
   "language": "python",
   "name": "python3"
  },
  "language_info": {
   "codemirror_mode": {
    "name": "ipython",
    "version": 3
   },
   "file_extension": ".py",
   "mimetype": "text/x-python",
   "name": "python",
   "nbconvert_exporter": "python",
   "pygments_lexer": "ipython3",
   "version": "3.7.7"
  }
 },
 "nbformat": 4,
 "nbformat_minor": 4
}
