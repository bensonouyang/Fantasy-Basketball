{
 "cells": [
  {
   "cell_type": "markdown",
   "metadata": {},
   "source": [
    "# Gathering Data"
   ]
  },
  {
   "cell_type": "code",
   "execution_count": 20,
   "metadata": {
    "scrolled": true
   },
   "outputs": [
    {
     "name": "stdout",
     "output_type": "stream",
     "text": [
      "['Player', 'Pos', 'Age', 'Tm', 'G', 'GS', 'MP', 'FG', 'FGA', 'FG%', '3P', '3PA', '3P%', '2P', '2PA', '2P%', 'eFG%', 'FT', 'FTA', 'FT%', 'ORB', 'DRB', 'TRB', 'AST', 'STL', 'BLK', 'TOV', 'PF', 'PTS']\n"
     ]
    }
   ],
   "source": [
    "from urllib.request import urlopen\n",
    "from bs4 import BeautifulSoup\n",
    "import pandas as pd\n",
    "\n",
    "# NBA season we will be analyzing\n",
    "year = 2020\n",
    "\n",
    "# URL page we will scraping\n",
    "url = \"https://www.basketball-reference.com/leagues/NBA_{}_per_game.html\".format(year)\n",
    "\n",
    "# this is the HTML from the given URL\n",
    "html = urlopen(url)\n",
    "soup = BeautifulSoup(html, features=\"lxml\")\n",
    "\n",
    "# use findALL() to get the column headers\n",
    "soup.findAll('tr', limit=2)\n",
    "\n",
    "# use getText()to extract the text we need into a list\n",
    "headers = [th.getText() for th in soup.findAll('tr', limit=2)[0].findAll('th')]\n",
    "\n",
    "# exclude the first column as we will not need the\n",
    "# ranking order from Basketball Reference for the analysis\n",
    "headers = headers[1:]\n",
    "#print(headers)\n",
    "\n",
    "##Header Meaning\n",
    "#Player = Name of Player\n",
    "#Pos = Position\n",
    "#Age = Age\n",
    "#Tm = Team\n",
    "#G = Games Played\n",
    "#GS = Games Started\n",
    "#MP = Minutes Played Per Game\n",
    "#FG = Field Goals Per Game\n",
    "#FGA = Field Goal Attempts Per Game\n",
    "#FG% = Field Goal Percentage\n",
    "#3P = 3-Point Field Goals Per Game\n",
    "#3PA = 3-Point Field Goal Attempts Per Game\n",
    "#3P% = 3-Point Field Goal Percentage\n",
    "#2P = 2-Point Field Goals Per Game\n",
    "#2PA = 2-Point Field Goal Attempts Per Game\n",
    "#2P% = 2-Point Field Goal Percentage\n",
    "#eFG% = Effective Field Goal Percentage\n",
    "#FT = Free Throws Per Game\n",
    "#FTA = Free Throw Attempts Per Game\n",
    "#FT% = Free Throw Percentage\n",
    "#ORB = Offensive Rebounds Per Game\n",
    "#DRB = Defensive Rebounds Per Game\n",
    "#TRB = Total Rebounds Per Game\n",
    "#AST = Assists Per Game\n",
    "#BLK = Blocks Per Game\n",
    "#TOV = Turnover Per Game\n",
    "#PF = Personal Fouls Per Game\n",
    "#PTS = Points Per Game\n",
    "\n",
    "\n",
    "# avoid the first header row\n",
    "rows = soup.findAll('tr')[1:]\n",
    "player_stats = [[td.getText() for td in rows[i].findAll('td')]\n",
    "            for i in range(len(rows))]\n",
    "\n",
    "stats = pd.DataFrame(player_stats, columns = headers)\n",
    "\n",
    "stats.to_csv(\"stats.csv\")\n",
    "\n"
   ]
  },
  {
   "cell_type": "markdown",
   "metadata": {},
   "source": [
    "# Cleaning Data"
   ]
  },
  {
   "cell_type": "code",
   "execution_count": 105,
   "metadata": {},
   "outputs": [
    {
     "name": "stdout",
     "output_type": "stream",
     "text": [
      "[ 5.03470153e-16 -6.21827646e-15 -2.27438139e-15  1.63408148e-14\n",
      "  3.00000000e+00 -1.00000000e+00  2.21332783e-15  2.00000000e+00\n",
      " -5.00000000e-01  9.81702919e-16 -1.26395256e-14 -8.78456225e-16\n",
      "  1.07578478e-15 -3.31002773e-16 -1.49759406e-15 -1.45846938e-15\n",
      " -1.96723498e-16 -1.41836246e-15  7.42948822e-16  4.13983415e-16\n",
      " -2.41672643e-16  1.72748263e-16  1.86878808e-15]\n"
     ]
    }
   ],
   "source": [
    "import pandas as pd\n",
    "from sklearn.linear_model import LinearRegression\n",
    "import seaborn as sns\n",
    "\n",
    "data = pd.read_csv('stats.csv')\n",
    "\n",
    "del data['Unnamed: 0']\n",
    "\n",
    "# Players that have gotten traded are placed in a different row with stats from their time on that specific team\n",
    "\n",
    "TradedPlayers = []\n",
    "\n",
    "# Placing players that were traded in a list called TradedPlayers\n",
    "for i in range(len(data) - 1):\n",
    "    temp = data.loc[i+1].Player\n",
    "    if (temp == data.loc[i].Player) & (temp not in TradedPlayers):\n",
    "        TradedPlayers.append(temp)\n",
    "\n",
    "Nontraded_DF = data[data[\"Player\"].isin(TradedPlayers) == False]\n",
    "\n",
    "Traded_DF = data[data[\"Player\"].isin(TradedPlayers)]\n",
    "\n",
    "TradedTot_DF = Traded_DF[Traded_DF['Tm'] == 'TOT']\n",
    "\n",
    "Combined_DF = Nontraded_DF.append(TradedTot_DF).reset_index()\n",
    "\n",
    "del Combined_DF['index']\n",
    "\n",
    "Combined_DF = Combined_DF.fillna(0)\n",
    "\n",
    "# Column for Average Fantasy Points calculated based on columns based on different weights placed on different statline\n",
    "# The weights I have put on each category is based on my own personal standing of each category\n",
    "\n",
    "# Each Fantasy League can have their own weights on each category, I tried to make the weights as balanced as possible\n",
    "# For example, power forwards and centers are able to get more blocks than the other positions while guards get more than steals\n",
    "# than other positions\n",
    "\n",
    "Combined_DF['AFP'] = 3*Combined_DF['3P'] + 2*Combined_DF['2P'] - Combined_DF['3PA'] - 0.5*Combined_DF['2PA'] \n",
    "+ Combined_DF['FT'] - 0.25*Combined_DF['FTA'] +  2*Combined_DF['ORB'] + Combined_DF['DRB'] + 2*Combined_DF['AST'] \n",
    "+ 4*Combined_DF['STL'] + 4*Combined_DF['BLK'] - 2.5*Combined_DF['TOV'] - Combined_DF['PF']\n",
    "\n",
    "X = Combined_DF[['MP', 'FG', 'FGA', 'FG%', '3P', '3PA', '3P%', '2P', '2PA', '2P%', 'eFG%', 'FT', 'FTA', \n",
    "                 'FT%', 'ORB', 'DRB', 'TRB', 'AST', 'STL', 'BLK', 'TOV', 'PF', 'PTS']]\n",
    "\n",
    "y = Combined_DF['AFP']\n",
    "\n",
    "reg = LinearRegression().fit(X,y)\n",
    "\n",
    "coef = reg.coef_\n",
    "\n",
    "# https://aegis4048.github.io/mutiple_linear_regression_and_visualization_in_python"
   ]
  },
  {
   "cell_type": "markdown",
   "metadata": {},
   "source": [
    "# Data Visualization"
   ]
  },
  {
   "cell_type": "code",
   "execution_count": null,
   "metadata": {},
   "outputs": [],
   "source": [
    "# https://aegis4048.github.io/mutiple_linear_regression_and_visualization_in_python\n",
    "\n"
   ]
  }
 ],
 "metadata": {
  "kernelspec": {
   "display_name": "Python 3",
   "language": "python",
   "name": "python3"
  },
  "language_info": {
   "codemirror_mode": {
    "name": "ipython",
    "version": 3
   },
   "file_extension": ".py",
   "mimetype": "text/x-python",
   "name": "python",
   "nbconvert_exporter": "python",
   "pygments_lexer": "ipython3",
   "version": "3.7.7"
  }
 },
 "nbformat": 4,
 "nbformat_minor": 4
}
